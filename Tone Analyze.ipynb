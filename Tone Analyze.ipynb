{
 "cells": [
  {
   "cell_type": "code",
   "execution_count": 2,
   "metadata": {},
   "outputs": [
    {
     "name": "stdout",
     "output_type": "stream",
     "text": [
      "Requirement already satisfied: ibm_watson in c:\\anaconda\\lib\\site-packages (5.0.2)\n",
      "Requirement already satisfied: python-dateutil>=2.5.3 in c:\\anaconda\\lib\\site-packages (from ibm_watson) (2.8.1)\n",
      "Requirement already satisfied: ibm-cloud-sdk-core==1.7.3 in c:\\anaconda\\lib\\site-packages (from ibm_watson) (1.7.3)\n",
      "Requirement already satisfied: websocket-client==0.48.0 in c:\\anaconda\\lib\\site-packages (from ibm_watson) (0.48.0)\n",
      "Requirement already satisfied: requests<3.0,>=2.0 in c:\\anaconda\\lib\\site-packages (from ibm_watson) (2.25.1)\n",
      "Requirement already satisfied: PyJWT>=1.7.1 in c:\\anaconda\\lib\\site-packages (from ibm-cloud-sdk-core==1.7.3->ibm_watson) (1.7.1)\n",
      "Requirement already satisfied: six in c:\\anaconda\\lib\\site-packages (from websocket-client==0.48.0->ibm_watson) (1.15.0)\n",
      "Requirement already satisfied: idna<3,>=2.5 in c:\\anaconda\\lib\\site-packages (from requests<3.0,>=2.0->ibm_watson) (2.10)\n",
      "Requirement already satisfied: certifi>=2017.4.17 in c:\\anaconda\\lib\\site-packages (from requests<3.0,>=2.0->ibm_watson) (2020.12.5)\n",
      "Requirement already satisfied: urllib3<1.27,>=1.21.1 in c:\\anaconda\\lib\\site-packages (from requests<3.0,>=2.0->ibm_watson) (1.26.2)\n",
      "Requirement already satisfied: chardet<5,>=3.0.2 in c:\\anaconda\\lib\\site-packages (from requests<3.0,>=2.0->ibm_watson) (4.0.0)\n"
     ]
    }
   ],
   "source": [
    "!pip install ibm_watson"
   ]
  },
  {
   "cell_type": "markdown",
   "metadata": {},
   "source": [
    "# 1. Authenticate"
   ]
  },
  {
   "cell_type": "code",
   "execution_count": 3,
   "metadata": {},
   "outputs": [],
   "source": [
    "API = '639Ro7zWmezUNFguGhFbXgJIW0oeUjP9blTJe3lcy97S'\n",
    "URL = 'https://api.us-south.tone-analyzer.watson.cloud.ibm.com/instances/1bfbecf8-6782-4738-b8f6-e9f14673377d'"
   ]
  },
  {
   "cell_type": "code",
   "execution_count": 4,
   "metadata": {},
   "outputs": [],
   "source": [
    "from ibm_watson import ToneAnalyzerV3\n",
    "from ibm_cloud_sdk_core.authenticators import IAMAuthenticator"
   ]
  },
  {
   "cell_type": "code",
   "execution_count": 6,
   "metadata": {},
   "outputs": [],
   "source": [
    "autenticator = IAMAuthenticator(API)\n",
    "ta = ToneAnalyzerV3(version = '2017-09-21', authenticator = autenticator)\n",
    "ta.set_service_url(URL)"
   ]
  },
  {
   "cell_type": "markdown",
   "metadata": {},
   "source": [
    "# 2. Analyze Tone"
   ]
  },
  {
   "cell_type": "code",
   "execution_count": 8,
   "metadata": {},
   "outputs": [
    {
     "data": {
      "text/plain": [
       "{'document_tone': {'tones': [{'score': 0.552097,\n",
       "    'tone_id': 'sadness',\n",
       "    'tone_name': 'Sadness'}]}}"
      ]
     },
     "execution_count": 8,
     "metadata": {},
     "output_type": "execute_result"
    }
   ],
   "source": [
    "joy = 'I am feeling amazing thanks!'\n",
    "sad = 'this sucks, i wish i wasnt here!'\n",
    "res = ta.tone(sad).get_result()\n",
    "res"
   ]
  },
  {
   "cell_type": "markdown",
   "metadata": {},
   "source": [
    "# 3. Analyze Chat Tone"
   ]
  },
  {
   "cell_type": "code",
   "execution_count": 10,
   "metadata": {},
   "outputs": [],
   "source": [
    "chat = [\n",
    "    {\"text\": \"I feel great. it's sunny outside, and i've got all my work done.\",\n",
    "    \"user\": \"He who shall not be named\"},\n",
    "    \n",
    "    {\"text\": \"this sucks, i have like 500 hundred hours more coding to do. this is going to take all weekend\",\n",
    "     \"user\": \"nick\"}\n",
    "]"
   ]
  },
  {
   "cell_type": "code",
   "execution_count": 11,
   "metadata": {},
   "outputs": [],
   "source": [
    "res = ta.tone_chat(chat).get_result()"
   ]
  },
  {
   "cell_type": "code",
   "execution_count": 12,
   "metadata": {},
   "outputs": [
    {
     "data": {
      "text/plain": [
       "{'utterances_tone': [{'utterance_id': 0,\n",
       "   'utterance_text': \"I feel great. it's sunny outside, and i've got all my work done.\",\n",
       "   'tones': [{'score': 0.81063,\n",
       "     'tone_id': 'excited',\n",
       "     'tone_name': 'Excited'}]},\n",
       "  {'utterance_id': 1,\n",
       "   'utterance_text': 'this sucks, i have like 500 hundred hours more coding to do. this is going to take all weekend',\n",
       "   'tones': [{'score': 0.624277,\n",
       "     'tone_id': 'frustrated',\n",
       "     'tone_name': 'Frustrated'},\n",
       "    {'score': 0.788803, 'tone_id': 'impolite', 'tone_name': 'Impolite'},\n",
       "    {'score': 0.643228, 'tone_id': 'sad', 'tone_name': 'Sad'}]}]}"
      ]
     },
     "execution_count": 12,
     "metadata": {},
     "output_type": "execute_result"
    }
   ],
   "source": [
    "res"
   ]
  }
 ],
 "metadata": {
  "kernelspec": {
   "display_name": "Python 3",
   "language": "python",
   "name": "python3"
  },
  "language_info": {
   "codemirror_mode": {
    "name": "ipython",
    "version": 3
   },
   "file_extension": ".py",
   "mimetype": "text/x-python",
   "name": "python",
   "nbconvert_exporter": "python",
   "pygments_lexer": "ipython3",
   "version": "3.7.8"
  }
 },
 "nbformat": 4,
 "nbformat_minor": 4
}
