{
 "cells": [
  {
   "cell_type": "code",
   "execution_count": null,
   "metadata": {},
   "outputs": [],
   "source": [
    "!pip install ibm_watson"
   ]
  },
  {
   "cell_type": "markdown",
   "metadata": {},
   "source": [
    "# 1. Authenticate"
   ]
  },
  {
   "cell_type": "code",
   "execution_count": 1,
   "metadata": {},
   "outputs": [],
   "source": [
    "API_KEY = 'zEp5UsdGtSNmNKPVtQF2IBHrrWApu4JXepGObAjuiSf4'\n",
    "URL = 'https://api.us-south.language-translator.watson.cloud.ibm.com/instances/e97aca03-7a4f-444f-8d31-d2997e882caf'"
   ]
  },
  {
   "cell_type": "code",
   "execution_count": 2,
   "metadata": {},
   "outputs": [],
   "source": [
    "from ibm_watson import LanguageTranslatorV3\n",
    "from ibm_cloud_sdk_core.authenticators import IAMAuthenticator"
   ]
  },
  {
   "cell_type": "code",
   "execution_count": 3,
   "metadata": {},
   "outputs": [],
   "source": [
    "# Setup service\n",
    "authenticator = IAMAuthenticator(API_KEY)\n",
    "lt = LanguageTranslatorV3(version = '2018-05-01', authenticator=authenticator)\n",
    "lt.set_service_url(URL)"
   ]
  },
  {
   "cell_type": "markdown",
   "metadata": {},
   "source": [
    "# 2. Traslate"
   ]
  },
  {
   "cell_type": "code",
   "execution_count": 4,
   "metadata": {},
   "outputs": [],
   "source": [
    "translation = lt.translate(text = \"i need a hand\", model_id = 'en-ko').get_result()"
   ]
  },
  {
   "cell_type": "code",
   "execution_count": 5,
   "metadata": {},
   "outputs": [
    {
     "data": {
      "text/plain": [
       "{'translations': [{'translation': '손이 필요하다'}],\n",
       " 'word_count': 4,\n",
       " 'character_count': 13}"
      ]
     },
     "execution_count": 5,
     "metadata": {},
     "output_type": "execute_result"
    }
   ],
   "source": [
    "translation"
   ]
  },
  {
   "cell_type": "code",
   "execution_count": 6,
   "metadata": {},
   "outputs": [
    {
     "data": {
      "text/plain": [
       "'손이 필요하다'"
      ]
     },
     "execution_count": 6,
     "metadata": {},
     "output_type": "execute_result"
    }
   ],
   "source": [
    "translation['translations'][0]['translation']"
   ]
  },
  {
   "cell_type": "markdown",
   "metadata": {},
   "source": [
    "# 3. Identify Languages"
   ]
  },
  {
   "cell_type": "code",
   "execution_count": 7,
   "metadata": {},
   "outputs": [],
   "source": [
    "language = lt.identify('This is a regular sentence').get_result()"
   ]
  },
  {
   "cell_type": "code",
   "execution_count": 8,
   "metadata": {},
   "outputs": [
    {
     "data": {
      "text/plain": [
       "{'languages': [{'language': 'en', 'confidence': 0.9999238366566316},\n",
       "  {'language': 'pt', 'confidence': 4.005044167511225e-05},\n",
       "  {'language': 'ga', 'confidence': 1.3750945523875857e-05},\n",
       "  {'language': 'es', 'confidence': 8.17442073041213e-06},\n",
       "  {'language': 'hu', 'confidence': 4.826837883903294e-06},\n",
       "  {'language': 'ca', 'confidence': 3.4785371248872727e-06},\n",
       "  {'language': 'fr', 'confidence': 1.035046414197358e-06},\n",
       "  {'language': 'ro', 'confidence': 9.821000081336037e-07},\n",
       "  {'language': 'nn', 'confidence': 7.673462608095865e-07},\n",
       "  {'language': 'tr', 'confidence': 5.281066290138447e-07},\n",
       "  {'language': 'eo', 'confidence': 4.0716675218180655e-07},\n",
       "  {'language': 'af', 'confidence': 2.719968789092687e-07},\n",
       "  {'language': 'nl', 'confidence': 2.336500954117753e-07},\n",
       "  {'language': 'cs', 'confidence': 2.1162448809088908e-07},\n",
       "  {'language': 'mt', 'confidence': 2.0646062074212197e-07},\n",
       "  {'language': 'nb', 'confidence': 1.969338761022963e-07},\n",
       "  {'language': 'it', 'confidence': 1.5454393138714427e-07},\n",
       "  {'language': 'tl', 'confidence': 1.3165643104981586e-07},\n",
       "  {'language': 'ms', 'confidence': 1.2344577053248704e-07},\n",
       "  {'language': 'de', 'confidence': 9.723203392432971e-08},\n",
       "  {'language': 'sv', 'confidence': 9.585912461474905e-08},\n",
       "  {'language': 'sq', 'confidence': 4.478431475850902e-08},\n",
       "  {'language': 'da', 'confidence': 4.2623724636594834e-08},\n",
       "  {'language': 'sk', 'confidence': 3.930082978625857e-08},\n",
       "  {'language': 'ht', 'confidence': 3.5135291174681044e-08},\n",
       "  {'language': 'et', 'confidence': 3.304062935615496e-08},\n",
       "  {'language': 'cy', 'confidence': 3.152531831527602e-08},\n",
       "  {'language': 'is', 'confidence': 2.6879076458150698e-08},\n",
       "  {'language': 'pl', 'confidence': 2.4686764688581044e-08},\n",
       "  {'language': 'lt', 'confidence': 2.4595442058368426e-08},\n",
       "  {'language': 'lv', 'confidence': 2.2665281943604585e-08},\n",
       "  {'language': 'ku', 'confidence': 2.0627744126102896e-08},\n",
       "  {'language': 'az', 'confidence': 1.9902354938529683e-08},\n",
       "  {'language': 'so', 'confidence': 1.570882060818854e-08},\n",
       "  {'language': 'vi', 'confidence': 1.5469217953462115e-08},\n",
       "  {'language': 'sl', 'confidence': 1.334711013647475e-08},\n",
       "  {'language': 'hr', 'confidence': 1.1408462506857008e-08},\n",
       "  {'language': 'eu', 'confidence': 9.585583488557303e-09},\n",
       "  {'language': 'fi', 'confidence': 2.1858861823568122e-09},\n",
       "  {'language': 'zh', 'confidence': 1.7357600381260806e-09},\n",
       "  {'language': 'zh-TW', 'confidence': 1.4507423357683175e-09},\n",
       "  {'language': 'ja', 'confidence': 9.6397843691984e-10},\n",
       "  {'language': 'th', 'confidence': 3.394510770921737e-10},\n",
       "  {'language': 'ko', 'confidence': 3.0994912210040954e-10},\n",
       "  {'language': 'hi', 'confidence': 1.7250461630862388e-10},\n",
       "  {'language': 'el', 'confidence': 1.3167229380773388e-10},\n",
       "  {'language': 'ur', 'confidence': 5.764405027733056e-11},\n",
       "  {'language': 'ru', 'confidence': 4.994351538163572e-11},\n",
       "  {'language': 'mn', 'confidence': 4.2614634743610357e-11},\n",
       "  {'language': 'my', 'confidence': 3.6879831672568916e-11},\n",
       "  {'language': 'ar', 'confidence': 2.500637082769776e-11},\n",
       "  {'language': 'km', 'confidence': 2.1737574470414405e-11},\n",
       "  {'language': 'he', 'confidence': 1.6012787480449355e-11},\n",
       "  {'language': 'bn', 'confidence': 1.4637669518154213e-11},\n",
       "  {'language': 'lo', 'confidence': 1.4533061401532149e-11},\n",
       "  {'language': 'mr', 'confidence': 1.3501421679310354e-11},\n",
       "  {'language': 'sr', 'confidence': 1.2103254811199008e-11},\n",
       "  {'language': 'ka', 'confidence': 1.1445589773105408e-11},\n",
       "  {'language': 'ta', 'confidence': 9.274783732159809e-12},\n",
       "  {'language': 'bg', 'confidence': 7.280398666323242e-12},\n",
       "  {'language': 'uk', 'confidence': 6.969780615502308e-12},\n",
       "  {'language': 'ml', 'confidence': 6.737912923375868e-12},\n",
       "  {'language': 'kk', 'confidence': 6.594890469237902e-12},\n",
       "  {'language': 'pa', 'confidence': 6.5222959501973895e-12},\n",
       "  {'language': 'ps', 'confidence': 6.45030376936196e-12},\n",
       "  {'language': 'ne', 'confidence': 6.20274707160909e-12},\n",
       "  {'language': 'hy', 'confidence': 6.184611789787822e-12},\n",
       "  {'language': 'be', 'confidence': 5.854858863026184e-12},\n",
       "  {'language': 'te', 'confidence': 5.625706704458464e-12},\n",
       "  {'language': 'fa', 'confidence': 5.36379420824911e-12},\n",
       "  {'language': 'pa-PK', 'confidence': 5.2985513962315916e-12},\n",
       "  {'language': 'ky', 'confidence': 5.142430228691491e-12},\n",
       "  {'language': 'cv', 'confidence': 3.0073498434871704e-12},\n",
       "  {'language': 'ba', 'confidence': 2.5335629227417957e-12},\n",
       "  {'language': 'gu', 'confidence': 2.4759563302802067e-12},\n",
       "  {'language': 'si', 'confidence': 1.6242213281806487e-12}]}"
      ]
     },
     "execution_count": 8,
     "metadata": {},
     "output_type": "execute_result"
    }
   ],
   "source": [
    "language"
   ]
  },
  {
   "cell_type": "markdown",
   "metadata": {},
   "source": [
    "# 4. Ai Travel Guide"
   ]
  },
  {
   "cell_type": "code",
   "execution_count": 9,
   "metadata": {},
   "outputs": [],
   "source": [
    "ttsapikey = 'b1ixN2uqgTCMvO405uCN4xa_QT8ID0VkXfXz2zqt4jh-'\n",
    "ttsurl = 'https://api.us-south.text-to-speech.watson.cloud.ibm.com/instances/bd6f777a-8388-487c-a0e7-6aef5aa3d7a2'"
   ]
  },
  {
   "cell_type": "code",
   "execution_count": 10,
   "metadata": {},
   "outputs": [],
   "source": [
    "from ibm_watson import TextToSpeechV1"
   ]
  },
  {
   "cell_type": "code",
   "execution_count": 11,
   "metadata": {},
   "outputs": [],
   "source": [
    "# Setup service\n",
    "authenticator = IAMAuthenticator(ttsapikey)\n",
    "tts = TextToSpeechV1(authenticator=authenticator)\n",
    "tts.set_service_url(ttsurl)"
   ]
  },
  {
   "cell_type": "code",
   "execution_count": 17,
   "metadata": {},
   "outputs": [],
   "source": [
    "translation = lt.translate(text = \"We are sinking! Please and help\", model_id = 'en-de').get_result()"
   ]
  },
  {
   "cell_type": "code",
   "execution_count": 18,
   "metadata": {},
   "outputs": [
    {
     "data": {
      "text/plain": [
       "'Wir sinken! Bitte und Hilfe'"
      ]
     },
     "execution_count": 18,
     "metadata": {},
     "output_type": "execute_result"
    }
   ],
   "source": [
    "text = translation['translations'][0]['translation']\n",
    "text"
   ]
  },
  {
   "cell_type": "code",
   "execution_count": 19,
   "metadata": {},
   "outputs": [],
   "source": [
    "with open('./help.mp3', 'wb') as audio_file:\n",
    "    res = tts.synthesize(text, accept='audio/mp3', voice = 'de-DE_BirgitV3Voice').get_result()\n",
    "    audio_file.write(res.content)"
   ]
  }
 ],
 "metadata": {
  "kernelspec": {
   "display_name": "Python 3",
   "language": "python",
   "name": "python3"
  },
  "language_info": {
   "codemirror_mode": {
    "name": "ipython",
    "version": 3
   },
   "file_extension": ".py",
   "mimetype": "text/x-python",
   "name": "python",
   "nbconvert_exporter": "python",
   "pygments_lexer": "ipython3",
   "version": "3.7.8"
  }
 },
 "nbformat": 4,
 "nbformat_minor": 4
}
