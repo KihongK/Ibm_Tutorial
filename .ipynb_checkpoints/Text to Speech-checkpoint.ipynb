{
 "cells": [
  {
   "cell_type": "markdown",
   "metadata": {},
   "source": [
    "# 0. Install Dependencies"
   ]
  },
  {
   "cell_type": "code",
   "execution_count": 2,
   "metadata": {},
   "outputs": [
    {
     "name": "stdout",
     "output_type": "stream",
     "text": [
      "Collecting ibm_watson\n",
      "  Downloading ibm-watson-5.0.2.tar.gz (382 kB)\n",
      "Requirement already satisfied: requests<3.0,>=2.0 in c:\\anaconda\\lib\\site-packages (from ibm_watson) (2.25.1)\n",
      "Requirement already satisfied: python_dateutil>=2.5.3 in c:\\anaconda\\lib\\site-packages (from ibm_watson) (2.8.1)\n",
      "Collecting ibm_cloud_sdk_core==1.7.3\n",
      "  Downloading ibm-cloud-sdk-core-1.7.3.tar.gz (27 kB)\n",
      "Requirement already satisfied: PyJWT>=1.7.1 in c:\\anaconda\\lib\\site-packages (from ibm_cloud_sdk_core==1.7.3->ibm_watson) (1.7.1)\n",
      "Collecting websocket-client==0.48.0\n",
      "  Downloading websocket_client-0.48.0-py2.py3-none-any.whl (198 kB)\n",
      "Requirement already satisfied: six in c:\\anaconda\\lib\\site-packages (from websocket-client==0.48.0->ibm_watson) (1.15.0)\n",
      "Requirement already satisfied: chardet<5,>=3.0.2 in c:\\anaconda\\lib\\site-packages (from requests<3.0,>=2.0->ibm_watson) (4.0.0)\n",
      "Requirement already satisfied: urllib3<1.27,>=1.21.1 in c:\\anaconda\\lib\\site-packages (from requests<3.0,>=2.0->ibm_watson) (1.26.2)\n",
      "Requirement already satisfied: idna<3,>=2.5 in c:\\anaconda\\lib\\site-packages (from requests<3.0,>=2.0->ibm_watson) (2.10)\n",
      "Requirement already satisfied: certifi>=2017.4.17 in c:\\anaconda\\lib\\site-packages (from requests<3.0,>=2.0->ibm_watson) (2020.12.5)\n",
      "Building wheels for collected packages: ibm-watson, ibm-cloud-sdk-core\n",
      "  Building wheel for ibm-watson (setup.py): started\n",
      "  Building wheel for ibm-watson (setup.py): finished with status 'done'\n",
      "  Created wheel for ibm-watson: filename=ibm_watson-5.0.2-py3-none-any.whl size=375441 sha256=6871ab3016d934f364da12464d5d044d5d1d1f1d3991454b14f61a1813c92c29\n",
      "  Stored in directory: c:\\users\\hong\\appdata\\local\\pip\\cache\\wheels\\c9\\6e\\e6\\295755493e85bcca0031dfcf88a95507e4d6055889eb15362a\n",
      "  Building wheel for ibm-cloud-sdk-core (setup.py): started\n",
      "  Building wheel for ibm-cloud-sdk-core (setup.py): finished with status 'done'\n",
      "  Created wheel for ibm-cloud-sdk-core: filename=ibm_cloud_sdk_core-1.7.3-py3-none-any.whl size=45941 sha256=8b0e89f4967db32fe4df1327c223f4e52beb28e95f29257db84d3c7e98535860\n",
      "  Stored in directory: c:\\users\\hong\\appdata\\local\\pip\\cache\\wheels\\c6\\5f\\fb\\c2daef3706ded7e718641a60d097be3116a6b70a8f236753f2\n",
      "Successfully built ibm-watson ibm-cloud-sdk-core\n",
      "Installing collected packages: websocket-client, ibm-cloud-sdk-core, ibm-watson\n",
      "  Attempting uninstall: websocket-client\n",
      "    Found existing installation: websocket-client 0.57.0\n",
      "    Uninstalling websocket-client-0.57.0:\n",
      "      Successfully uninstalled websocket-client-0.57.0\n",
      "Successfully installed ibm-cloud-sdk-core-1.7.3 ibm-watson-5.0.2 websocket-client-0.48.0\n"
     ]
    }
   ],
   "source": [
    "!pip install ibm_watson"
   ]
  },
  {
   "cell_type": "markdown",
   "metadata": {},
   "source": [
    "# 1. Authenticate\n"
   ]
  },
  {
   "cell_type": "code",
   "execution_count": 3,
   "metadata": {},
   "outputs": [],
   "source": [
    "URL = 'https://api.us-south.text-to-speech.watson.cloud.ibm.com/instances/bd6f777a-8388-487c-a0e7-6aef5aa3d7a2'\n",
    "API_KEY = 'b1ixN2uqgTCMvO405uCN4xa_QT8ID0VkXfXz2zqt4jh-'"
   ]
  },
  {
   "cell_type": "code",
   "execution_count": 5,
   "metadata": {},
   "outputs": [],
   "source": [
    "from ibm_watson import TextToSpeechV1\n",
    "from ibm_cloud_sdk_core.authenticators import IAMAuthenticator "
   ]
  },
  {
   "cell_type": "code",
   "execution_count": 6,
   "metadata": {},
   "outputs": [],
   "source": [
    "# Setup Service\n",
    "authenticator = IAMAuthenticator(API_KEY)\n",
    "\n",
    "# New TTS Service\n",
    "tts = TextToSpeechV1(authenticator = authenticator)\n",
    "\n",
    "# Set Service URL\n",
    "tts.set_service_url(URL)"
   ]
  },
  {
   "cell_type": "markdown",
   "metadata": {},
   "source": [
    "# 2. Convert a String"
   ]
  },
  {
   "cell_type": "code",
   "execution_count": 7,
   "metadata": {},
   "outputs": [],
   "source": [
    "with open('./speech.mp3', 'wb') as audio_file:\n",
    "    res = tts.synthesize('Hello mada faka', accept ='audio/mp3', voice = 'en-US_AllisonV3Voice').get_result()\n",
    "    audio_file.write(res.content)"
   ]
  },
  {
   "cell_type": "markdown",
   "metadata": {},
   "source": [
    "# 3. Convert from a File"
   ]
  },
  {
   "cell_type": "code",
   "execution_count": 12,
   "metadata": {},
   "outputs": [],
   "source": [
    "with open('churchill.txt', 'r', encoding='UTF8') as f:\n",
    "    text = f.readlines()"
   ]
  },
  {
   "cell_type": "code",
   "execution_count": 14,
   "metadata": {},
   "outputs": [
    {
     "name": "stdout",
     "output_type": "stream",
     "text": [
      "We shall go on to the end, we shall fight in France, we shall fight on the seas and oceans, we shall fight with growing confidence and growing strength in the air, we shall defend our Island, whatever the cost may be, we shall fight on the beaches, we shall fight on the landing grounds, we shall fight in the fields and in the streets, we shall fight in the hills; we shall never surrender, and even if, which I do not for a moment believe, this Island or a large part of it were subjugated and starving, then our Empire beyond the seas, armed and guarded by the British Fleet, would carry on the struggle, until, in God’s good time, the New World, with all its power and might, steps forth to the rescue and the liberation of the old.\n"
     ]
    }
   ],
   "source": [
    "text = [line.replace('\\n', '') for line in text]\n",
    "text = ''.join(str(line) for line in text)\n",
    "print(text)"
   ]
  },
  {
   "cell_type": "code",
   "execution_count": 15,
   "metadata": {},
   "outputs": [],
   "source": [
    "with open('./churchill.mp3', 'wb') as audio_file:\n",
    "    res = tts.synthesize(text, accept ='audio/mp3', voice = 'en-US_AllisonV3Voice').get_result()\n",
    "    audio_file.write(res.content)"
   ]
  },
  {
   "cell_type": "markdown",
   "metadata": {},
   "source": [
    "# 4. Using New Language Models"
   ]
  },
  {
   "cell_type": "code",
   "execution_count": 17,
   "metadata": {},
   "outputs": [],
   "source": [
    "voice = 'ko-KR_YunaVoice'"
   ]
  },
  {
   "cell_type": "code",
   "execution_count": 25,
   "metadata": {},
   "outputs": [],
   "source": [
    "with open('./kor.mp3', 'wb') as audio_file:\n",
    "    \n",
    "    res = tts.synthesize(\"안녕하십니까 저는 김기홍이라고 합니다\", accept =\"audio/mp3\", voice =  voice).get_result()\n",
    "    \n",
    "    audio_file.write(res.content)"
   ]
  }
 ],
 "metadata": {
  "kernelspec": {
   "display_name": "Python 3",
   "language": "python",
   "name": "python3"
  },
  "language_info": {
   "codemirror_mode": {
    "name": "ipython",
    "version": 3
   },
   "file_extension": ".py",
   "mimetype": "text/x-python",
   "name": "python",
   "nbconvert_exporter": "python",
   "pygments_lexer": "ipython3",
   "version": "3.7.8"
  }
 },
 "nbformat": 4,
 "nbformat_minor": 4
}
